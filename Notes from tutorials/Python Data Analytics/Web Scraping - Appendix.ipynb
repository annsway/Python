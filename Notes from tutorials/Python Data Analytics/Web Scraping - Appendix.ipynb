{
 "cells": [
  {
   "cell_type": "code",
   "execution_count": 1,
   "metadata": {
    "collapsed": true
   },
   "outputs": [],
   "source": [
    "from bs4 import BeautifulSoup\n",
    "import requests\n",
    "\n",
    "import pandas as pd\n",
    "from pandas import Series, DataFrame"
   ]
  },
  {
   "cell_type": "code",
   "execution_count": 3,
   "metadata": {
    "collapsed": true
   },
   "outputs": [],
   "source": [
    "result = requests.get(url)\n",
    "c = result.content"
   ]
  },
  {
   "cell_type": "code",
   "execution_count": 4,
   "metadata": {
    "collapsed": true
   },
   "outputs": [],
   "source": [
    "soup = BeautifulSoup(c, \"lxml\")"
   ]
  },
  {
   "cell_type": "code",
   "execution_count": 5,
   "metadata": {
    "collapsed": true
   },
   "outputs": [],
   "source": [
    "summary = soup.find('div', {'class': 'list-land', 'id':'content'}) # from web\n",
    "\n",
    "tables = summary.find_all('table')"
   ]
  },
  {
   "cell_type": "code",
   "execution_count": 6,
   "metadata": {},
   "outputs": [
    {
     "name": "stdout",
     "output_type": "stream",
     "text": [
      "[u'1'] [u'08/01/13'] [u'2013-14 (EDU 92495) Proposed Capital Outlay Projects (2013-14 only) (pdf)'] [u'2'] [u'09/01/13'] [u'2014-15\\xa0 (EDU 92495) Proposed Capital Outlay Projects (pdf)'] [u'3'] [u'11/01/13'] [u'Utilization of Classroom and Teaching Laboratories (pdf)', u'\\xa0(', u'Final Report; biennial', u')'] [u'4'] [u'11/01/13'] [u'Instruction and Research Space Summary & Analysis (pdf)'] [u'5'] [u'11/15/13'] [u'Statewide Energy Partnership Program (pdf)'] [u'6'] [u'11/30/13'] [u'2013-23 Capital Financial Plan (pdf)'] [u'7'] [u'11/30/13'] [u'Projects Savings Funded from Capital Outlay Bond Funds (pdf)'] [u'8'] [u'12/01/13'] [u'Streamlined Capital Projects Funded from Capital (pdf)'] [u'9'] [u'01/01/14'] [u'Annual General Obligation Bonds Accountability (pdf)'] [u'10'] [u'01/01/14'] [u'Small Business Utilization (pdf)'] [u'11'] [u'01/01/14'] [u'Institutional Financial Aid Programs - Preliminary report (pdf)'] [u'12'] [u'01/10/14'] [u'Summer Enrollment (pdf)'] [u'13'] [u'01/15/14'] [u'Contracting Out for Services at Newly Developed Facilities (pdf)'] [u'14'] [u'03/01/14'] [u'Performance Measures (pdf)'] [u'15'] [u'03/01/14'] [u'Entry Level Writing Requirement (pdf)'] [u'16'] [u'03/31/14'] [u'Annual Report on Student\\xa0Financial Support (pdf)'] [u'17'] [u'04/01/14'] [u'Unique Statewide Pupil Identifier (pdf)'] [u'18'] [u'04/01/14'] [u'Riverside School of Medicine (pdf)'] [u'19'] [u'04/01/14'] [u'SAPEP Funds and Outcomes - N/A'] [u'20'] [u'05/15/14'] [u'Receipt and Use of Lottery Funds (pdf)'] [u'21'] [u'07/01/14'] [u'Cogeneration and Energy Consv Major Capital Projects (pdf)'] [u'\\n'] [u'\\n'] [u'\\n'] [u'\\xa0'] [u'Future Reports'] [u'\\n'] [u'24'] [u'12-', u'31-15'] [u'Breast Cancer Research Fund'] [u'25'] [u'12-31-15'] [u'Cigarette and Tobacco Products Surtax Research Program'] [u'26'] [u'01-01-16'] [u'Best Value Program'] [u'27'] [u'01-01-16'] [u'California Subject Matter Programs'] [u'28'] [u'04-01-16'] [u'COSMOS Program Outcomes']\n"
     ]
    }
   ],
   "source": [
    "data = []\n",
    "\n",
    "rows = tables[0].findAll('tr')\n",
    "\n",
    "for tr in rows:\n",
    "    cols = tr.findAll('td')\n",
    "    \n",
    "    for td in cols:\n",
    "        text = td.findAll(text=True)\n",
    "        print text,\n",
    "        data.append(text)"
   ]
  },
  {
   "cell_type": "code",
   "execution_count": 7,
   "metadata": {},
   "outputs": [
    {
     "data": {
      "text/plain": [
       "[[u'1'],\n",
       " [u'08/01/13'],\n",
       " [u'2013-14 (EDU 92495) Proposed Capital Outlay Projects (2013-14 only) (pdf)'],\n",
       " [u'2'],\n",
       " [u'09/01/13'],\n",
       " [u'2014-15\\xa0 (EDU 92495) Proposed Capital Outlay Projects (pdf)'],\n",
       " [u'3'],\n",
       " [u'11/01/13'],\n",
       " [u'Utilization of Classroom and Teaching Laboratories (pdf)',\n",
       "  u'\\xa0(',\n",
       "  u'Final Report; biennial',\n",
       "  u')'],\n",
       " [u'4'],\n",
       " [u'11/01/13'],\n",
       " [u'Instruction and Research Space Summary & Analysis (pdf)'],\n",
       " [u'5'],\n",
       " [u'11/15/13'],\n",
       " [u'Statewide Energy Partnership Program (pdf)'],\n",
       " [u'6'],\n",
       " [u'11/30/13'],\n",
       " [u'2013-23 Capital Financial Plan (pdf)'],\n",
       " [u'7'],\n",
       " [u'11/30/13'],\n",
       " [u'Projects Savings Funded from Capital Outlay Bond Funds (pdf)'],\n",
       " [u'8'],\n",
       " [u'12/01/13'],\n",
       " [u'Streamlined Capital Projects Funded from Capital (pdf)'],\n",
       " [u'9'],\n",
       " [u'01/01/14'],\n",
       " [u'Annual General Obligation Bonds Accountability (pdf)'],\n",
       " [u'10'],\n",
       " [u'01/01/14'],\n",
       " [u'Small Business Utilization (pdf)'],\n",
       " [u'11'],\n",
       " [u'01/01/14'],\n",
       " [u'Institutional Financial Aid Programs - Preliminary report (pdf)'],\n",
       " [u'12'],\n",
       " [u'01/10/14'],\n",
       " [u'Summer Enrollment (pdf)'],\n",
       " [u'13'],\n",
       " [u'01/15/14'],\n",
       " [u'Contracting Out for Services at Newly Developed Facilities (pdf)'],\n",
       " [u'14'],\n",
       " [u'03/01/14'],\n",
       " [u'Performance Measures (pdf)'],\n",
       " [u'15'],\n",
       " [u'03/01/14'],\n",
       " [u'Entry Level Writing Requirement (pdf)'],\n",
       " [u'16'],\n",
       " [u'03/31/14'],\n",
       " [u'Annual Report on Student\\xa0Financial Support (pdf)'],\n",
       " [u'17'],\n",
       " [u'04/01/14'],\n",
       " [u'Unique Statewide Pupil Identifier (pdf)'],\n",
       " [u'18'],\n",
       " [u'04/01/14'],\n",
       " [u'Riverside School of Medicine (pdf)'],\n",
       " [u'19'],\n",
       " [u'04/01/14'],\n",
       " [u'SAPEP Funds and Outcomes - N/A'],\n",
       " [u'20'],\n",
       " [u'05/15/14'],\n",
       " [u'Receipt and Use of Lottery Funds (pdf)'],\n",
       " [u'21'],\n",
       " [u'07/01/14'],\n",
       " [u'Cogeneration and Energy Consv Major Capital Projects (pdf)'],\n",
       " [u'\\n'],\n",
       " [u'\\n'],\n",
       " [u'\\n'],\n",
       " [u'\\xa0'],\n",
       " [u'Future Reports'],\n",
       " [u'\\n'],\n",
       " [u'24'],\n",
       " [u'12-', u'31-15'],\n",
       " [u'Breast Cancer Research Fund'],\n",
       " [u'25'],\n",
       " [u'12-31-15'],\n",
       " [u'Cigarette and Tobacco Products Surtax Research Program'],\n",
       " [u'26'],\n",
       " [u'01-01-16'],\n",
       " [u'Best Value Program'],\n",
       " [u'27'],\n",
       " [u'01-01-16'],\n",
       " [u'California Subject Matter Programs'],\n",
       " [u'28'],\n",
       " [u'04-01-16'],\n",
       " [u'COSMOS Program Outcomes']]"
      ]
     },
     "execution_count": 7,
     "metadata": {},
     "output_type": "execute_result"
    }
   ],
   "source": [
    "data"
   ]
  },
  {
   "cell_type": "code",
   "execution_count": 8,
   "metadata": {
    "collapsed": true
   },
   "outputs": [],
   "source": [
    "reports = []\n",
    "date = []\n",
    "\n",
    "index = 0\n",
    "\n",
    "for item in data:\n",
    "    if 'pdf' in item:\n",
    "        date.append(data[index - 1])\n",
    "        \n",
    "        reports.append(item.replace(u'\\xa0', u' '))\n",
    "    \n",
    "    index += 1"
   ]
  },
  {
   "cell_type": "code",
   "execution_count": 9,
   "metadata": {
    "collapsed": true
   },
   "outputs": [],
   "source": [
    "date = Series(date)\n",
    "reports = Series(reports)"
   ]
  },
  {
   "cell_type": "code",
   "execution_count": 10,
   "metadata": {
    "collapsed": true
   },
   "outputs": [],
   "source": [
    "legislative_df = pd.concat([date, reports], axis=1)"
   ]
  },
  {
   "cell_type": "code",
   "execution_count": 11,
   "metadata": {
    "collapsed": true
   },
   "outputs": [],
   "source": [
    "legislative_df.columns = ['Date', 'Report']"
   ]
  },
  {
   "cell_type": "code",
   "execution_count": 12,
   "metadata": {},
   "outputs": [
    {
     "data": {
      "text/html": [
       "<div>\n",
       "<style>\n",
       "    .dataframe thead tr:only-child th {\n",
       "        text-align: right;\n",
       "    }\n",
       "\n",
       "    .dataframe thead th {\n",
       "        text-align: left;\n",
       "    }\n",
       "\n",
       "    .dataframe tbody tr th {\n",
       "        vertical-align: top;\n",
       "    }\n",
       "</style>\n",
       "<table border=\"1\" class=\"dataframe\">\n",
       "  <thead>\n",
       "    <tr style=\"text-align: right;\">\n",
       "      <th></th>\n",
       "      <th>Date</th>\n",
       "      <th>Report</th>\n",
       "    </tr>\n",
       "  </thead>\n",
       "  <tbody>\n",
       "  </tbody>\n",
       "</table>\n",
       "</div>"
      ],
      "text/plain": [
       "Empty DataFrame\n",
       "Columns: [Date, Report]\n",
       "Index: []"
      ]
     },
     "execution_count": 12,
     "metadata": {},
     "output_type": "execute_result"
    }
   ],
   "source": [
    "legislative_df"
   ]
  },
  {
   "cell_type": "code",
   "execution_count": 24,
   "metadata": {
    "collapsed": true
   },
   "outputs": [],
   "source": [
    "import unicodecsv as csv"
   ]
  },
  {
   "cell_type": "code",
   "execution_count": 29,
   "metadata": {
    "collapsed": true
   },
   "outputs": [],
   "source": [
    "csv_file = open('gov_reports.csv','w')\n",
    "csv_writer = csv.writer(csv_file)\n",
    "csv_writer.writerow(['Date', 'Report'])"
   ]
  },
  {
   "cell_type": "code",
   "execution_count": 31,
   "metadata": {
    "collapsed": true
   },
   "outputs": [],
   "source": [
    "for item in data:\n",
    "    if 'pdf' in item:\n",
    "        csv_writer.writerow([date, reports])\n",
    "csv_file.close()"
   ]
  },
  {
   "cell_type": "code",
   "execution_count": null,
   "metadata": {
    "collapsed": true
   },
   "outputs": [],
   "source": []
  }
 ],
 "metadata": {
  "kernelspec": {
   "display_name": "Python 2",
   "language": "python",
   "name": "python2"
  },
  "language_info": {
   "codemirror_mode": {
    "name": "ipython",
    "version": 2
   },
   "file_extension": ".py",
   "mimetype": "text/x-python",
   "name": "python",
   "nbconvert_exporter": "python",
   "pygments_lexer": "ipython2",
   "version": "2.7.14"
  }
 },
 "nbformat": 4,
 "nbformat_minor": 2
}
