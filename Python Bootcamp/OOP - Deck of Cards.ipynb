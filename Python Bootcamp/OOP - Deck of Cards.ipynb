{
 "cells": [
  {
   "cell_type": "markdown",
   "metadata": {
    "collapsed": true
   },
   "source": [
    "This notebook creates 3 classes: Card(), Deck(), and Player()"
   ]
  },
  {
   "cell_type": "markdown",
   "metadata": {},
   "source": [
    "Step 1: create a class for Card"
   ]
  },
  {
   "cell_type": "code",
   "execution_count": 98,
   "metadata": {
    "collapsed": true
   },
   "outputs": [],
   "source": [
    "class Card(object):\n",
    "    def __init__(self, suit, val): # create a constructor|\n",
    "        self.suit = suit # self.suit is an attribute\n",
    "        self.value = val # self.value is an attribute\n",
    "        \n",
    "        #print(\"Testing: a card OBJECT is created. \")\n",
    "    \n",
    "    def show(self): # create a method or function to show all the attributes\n",
    "        print \"{} of {}\".format(self.value, self.suit)\n",
    "        "
   ]
  },
  {
   "cell_type": "code",
   "execution_count": 18,
   "metadata": {},
   "outputs": [
    {
     "name": "stdout",
     "output_type": "stream",
     "text": [
      "A Card OBJECT is created. \n"
     ]
    }
   ],
   "source": [
    "# Test the class Card\n",
    "card = Card(\"Heart\", 9)"
   ]
  },
  {
   "cell_type": "code",
   "execution_count": 16,
   "metadata": {},
   "outputs": [
    {
     "name": "stdout",
     "output_type": "stream",
     "text": [
      "9 of Heart\n"
     ]
    }
   ],
   "source": [
    "card.show()"
   ]
  },
  {
   "cell_type": "code",
   "execution_count": 20,
   "metadata": {},
   "outputs": [
    {
     "name": "stdout",
     "output_type": "stream",
     "text": [
      "A Card OBJECT is created. \n"
     ]
    }
   ],
   "source": [
    "cardtest = Card(1,2)"
   ]
  },
  {
   "cell_type": "code",
   "execution_count": 21,
   "metadata": {
    "scrolled": true
   },
   "outputs": [
    {
     "name": "stdout",
     "output_type": "stream",
     "text": [
      "2 of 1\n"
     ]
    }
   ],
   "source": [
    "cardtest.show()"
   ]
  },
  {
   "cell_type": "markdown",
   "metadata": {},
   "source": [
    "Step 2: create a class for Deck"
   ]
  },
  {
   "cell_type": "code",
   "execution_count": 48,
   "metadata": {
    "collapsed": true
   },
   "outputs": [],
   "source": [
    "import random"
   ]
  },
  {
   "cell_type": "code",
   "execution_count": 66,
   "metadata": {
    "collapsed": true
   },
   "outputs": [],
   "source": [
    "class Deck(object):\n",
    "    def __init__(self): # Constructor '__init__'\n",
    "        self.cards = [] # First, initialize an attribute called cards\n",
    "        self.build() # Second, build a deck \n",
    "        \n",
    "        # To build a list of attributes of the Card()\n",
    "        \n",
    "    def build(self): # Function 'build'\n",
    "        for suit in [\"Spades\", \"Clubs\", \"Diamonds\", \"Hearts\"]:\n",
    "            for value in range(1,14):\n",
    "                # Call the 'Card' class -> populate the empty list 'cards'\n",
    "                # now you can use the methods within 'Card' class, such as 'show()'\n",
    "                self.cards.append(Card(suit,value)) \n",
    "                \n",
    "    def show(self): # Function 'show'\n",
    "        for c in self.cards:\n",
    "            c.show() # use the 'show()' method for each element (instance) of the class 'cards'\n",
    "     \n",
    "\n",
    "    def shuffle(self): # Function 'shuffle'\n",
    "        for i in range(len(self.cards)-1, 0, -1): \n",
    "            # Starting at '51': b/c the last element (instance) in the cards list is '51'\n",
    "            # Ending   at '1' : b/c the last chosen element (instance) will be automatically shuffled - has no choice to choose a position\n",
    "            # 'range' is exclusive: excluding 0 \n",
    "            #print i #check what elements (instances) are included in this range\n",
    "            \n",
    "            r = random.randint(0,i) # randomly choose a position for i\n",
    "            \n",
    "            # Swap positions for the elements (instances) and the random positions \n",
    "            # so that every element (instance) gets shuffled\n",
    "            \n",
    "            self.cards[i], self.cards[r] = self.cards[r], self.cards[i] # swap to shuffle\n",
    "\n",
    "    def draw(self): # Function 'draw'\n",
    "        return self.cards.pop() # .pop() returns and removes the last instance in the "
   ]
  },
  {
   "cell_type": "code",
   "execution_count": 73,
   "metadata": {},
   "outputs": [
    {
     "name": "stdout",
     "output_type": "stream",
     "text": [
      "4 of Hearts\n"
     ]
    }
   ],
   "source": [
    "deck = Deck()\n",
    "\n",
    "deck.shuffle()\n",
    "\n",
    "#deck.show()\n",
    "\n",
    "card = deck.draw()\n",
    "card.show()\n"
   ]
  },
  {
   "cell_type": "markdown",
   "metadata": {},
   "source": [
    "Setp 3: create a class for Player"
   ]
  },
  {
   "cell_type": "code",
   "execution_count": 88,
   "metadata": {
    "collapsed": true
   },
   "outputs": [],
   "source": [
    "class Player(object):\n",
    "    def __init__(self, name): \n",
    "        self.name = name\n",
    "        self.hand = [] # create a list to store the cards a player draws from the deck\n",
    "        \n",
    "    def drawCard(self, deck):\n",
    "        self.hand.append(deck.draw())\n",
    "        return self\n",
    "    \n",
    "    def showHand(self):\n",
    "        for card in self.hand:\n",
    "            card.show()\n",
    "            \n",
    "    def discard(self):\n",
    "        return self.hand.pop()"
   ]
  },
  {
   "cell_type": "code",
   "execution_count": 94,
   "metadata": {
    "collapsed": true
   },
   "outputs": [],
   "source": [
    "Ann = Player(\"Ann\")"
   ]
  },
  {
   "cell_type": "code",
   "execution_count": 95,
   "metadata": {},
   "outputs": [
    {
     "name": "stdout",
     "output_type": "stream",
     "text": [
      "13 of Hearts\n"
     ]
    }
   ],
   "source": [
    "Ann.drawCard(deck)\n",
    "Ann.showHand()"
   ]
  },
  {
   "cell_type": "code",
   "execution_count": 96,
   "metadata": {
    "collapsed": true
   },
   "outputs": [],
   "source": [
    "Ann.discard()\n",
    "Ann.showHand()"
   ]
  }
 ],
 "metadata": {
  "kernelspec": {
   "display_name": "Python 2",
   "language": "python",
   "name": "python2"
  },
  "language_info": {
   "codemirror_mode": {
    "name": "ipython",
    "version": 2
   },
   "file_extension": ".py",
   "mimetype": "text/x-python",
   "name": "python",
   "nbconvert_exporter": "python",
   "pygments_lexer": "ipython2",
   "version": "2.7.14"
  }
 },
 "nbformat": 4,
 "nbformat_minor": 2
}
