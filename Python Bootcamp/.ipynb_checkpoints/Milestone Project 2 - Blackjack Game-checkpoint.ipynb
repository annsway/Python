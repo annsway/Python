{
 "cells": [
  {
   "cell_type": "markdown",
   "metadata": {},
   "source": [
    "# Blackjack Game"
   ]
  },
  {
   "cell_type": "code",
   "execution_count": 8,
   "metadata": {
    "collapsed": true
   },
   "outputs": [],
   "source": [
    "import random\n",
    "\n",
    "playing = False\n",
    "\n",
    "restart_phrase = \"Press 'd' to deal the cards again, or press 'q' to quit\""
   ]
  },
  {
   "cell_type": "markdown",
   "metadata": {},
   "source": [
    "# Game Classes"
   ]
  },
  {
   "cell_type": "markdown",
   "metadata": {
    "collapsed": true
   },
   "source": [
    "Define global objects for the card game."
   ]
  },
  {
   "cell_type": "code",
   "execution_count": 38,
   "metadata": {
    "collapsed": true
   },
   "outputs": [],
   "source": [
    "class Card(object):\n",
    "    \n",
    "    def __init__(self, suit, rank):\n",
    "        self.suit = suit\n",
    "        self.rank = rank\n",
    "    \n",
    "    def showCard(self):\n",
    "        print \"{} of {}\".format(self.rank, self.suit)"
   ]
  },
  {
   "cell_type": "code",
   "execution_count": 56,
   "metadata": {},
   "outputs": [],
   "source": [
    "class Deck(object): # Deck() is a class\n",
    "    \n",
    "    def __init__(self):\n",
    "        self.deck = [] # self.deck is a list \n",
    "        self.build() # deck = Deck() will construct all functions in __init__\n",
    "        \n",
    "    def build(self):\n",
    "        for suit in [\"Spades\", \"Clubs\", \"Diamonds\", \"Hearts\"]:\n",
    "            for rank in range(1,14):\n",
    "                self.deck.append(Card(suit, rank))\n",
    "                \n",
    "    def show(self):\n",
    "        for c in self.deck:\n",
    "            c.showCard()\n",
    "    \n",
    "    def shuffle(self):\n",
    "        for i in range(len(self.deck)-1, 0, -1): #'range': exclusive 0\n",
    "            r = random.randint(0,i)\n",
    "            self.deck[i], self.deck[r] = self.deck[r], self.deck[i]\n",
    "    \n",
    "    def deal(self): \n",
    "        return self.deck.pop()      "
   ]
  },
  {
   "cell_type": "code",
   "execution_count": 57,
   "metadata": {
    "scrolled": true
   },
   "outputs": [
    {
     "name": "stdout",
     "output_type": "stream",
     "text": [
      "11 of Spades\n",
      "7 of Diamonds\n",
      "10 of Diamonds\n",
      "13 of Spades\n",
      "12 of Hearts\n",
      "4 of Hearts\n",
      "7 of Clubs\n",
      "9 of Diamonds\n",
      "2 of Clubs\n",
      "6 of Spades\n",
      "8 of Hearts\n",
      "2 of Diamonds\n",
      "3 of Diamonds\n",
      "12 of Diamonds\n",
      "3 of Spades\n",
      "11 of Clubs\n",
      "6 of Diamonds\n",
      "8 of Diamonds\n",
      "2 of Spades\n",
      "1 of Hearts\n",
      "6 of Clubs\n",
      "2 of Hearts\n",
      "1 of Spades\n",
      "5 of Hearts\n",
      "12 of Spades\n",
      "3 of Clubs\n",
      "11 of Diamonds\n",
      "4 of Spades\n",
      "7 of Hearts\n",
      "5 of Clubs\n",
      "7 of Spades\n",
      "10 of Spades\n",
      "12 of Clubs\n",
      "10 of Hearts\n",
      "13 of Hearts\n",
      "9 of Spades\n",
      "8 of Clubs\n",
      "8 of Spades\n",
      "9 of Clubs\n",
      "9 of Hearts\n",
      "1 of Clubs\n",
      "5 of Diamonds\n",
      "3 of Hearts\n",
      "10 of Clubs\n",
      "1 of Diamonds\n",
      "4 of Clubs\n",
      "11 of Hearts\n",
      "13 of Clubs\n",
      "4 of Diamonds\n",
      "13 of Diamonds\n",
      "5 of Spades\n",
      "6 of Hearts\n"
     ]
    }
   ],
   "source": [
    "test = Deck()\n",
    "test.shuffle()\n",
    "test.show()"
   ]
  },
  {
   "cell_type": "code",
   "execution_count": 51,
   "metadata": {},
   "outputs": [],
   "source": [
    "class Hand(object):\n",
    "    \n",
    "    def __init__(self):\n",
    "        self.COH =[]\n",
    "        self.value = 0\n",
    "        self.ace = False\n",
    "    \n",
    "    def card_add(self, MyCard):\n",
    "        self.COH.append(MyCard)\n",
    "        \n",
    "        if COH.rank == 1:\n",
    "            self.ace = True\n",
    "        self.value += card_val[COH.rank] # already added 1 to card_val      \n",
    "        \n",
    "    def card_val(self):\n",
    "        if (self.ace == True and self.value < 12):\n",
    "            return self.value + 10 \n",
    "            # in addition to 1 (added), add another 10\n",
    "            # self.value = 0 initialized \n",
    "        else:\n",
    "            return self.value\n",
    "        \n",
    "    def drawCard(self, hidden):\n",
    "        if hidden == True and playing == True:\n",
    "            starting_card = 1\n",
    "        else: \n",
    "            starting_card = 0\n",
    "        for i in range(starting_card, len(self.COH)):\n",
    "            self.COH[i].showCard() # call the showCard() function in Card() class\n",
    "    "
   ]
  },
  {
   "cell_type": "markdown",
   "metadata": {
    "collapsed": true
   },
   "source": [
    "# Game Flow"
   ]
  },
  {
   "cell_type": "code",
   "execution_count": 60,
   "metadata": {},
   "outputs": [],
   "source": [
    "def deal_cards():\n",
    "    \n",
    "    global result, playing, deck, player_hand, dealer_hand\n",
    "    \n",
    "    deck = Deck() # make an instance for Deck() class\n",
    "    deck.shuffle()\n",
    "    \n",
    "    player_hand = Hand()\n",
    "    dealer_hand = Hand()\n",
    "    \n",
    "    player_hand.card_add(deck.deal())\n",
    "    player_hand.card_add(deck.deal())\n",
    "    \n",
    "    dealer_hand.card_add(deck.deal())\n",
    "    dealer_hand.card_add(deck.deal())\n",
    "    \n",
    "    result = \"Hit or Stand? (Press 'h' or 's': )\"\n",
    "    \n",
    "    playing = True\n",
    "    game_step()"
   ]
  },
  {
   "cell_type": "code",
   "execution_count": 61,
   "metadata": {
    "collapsed": true
   },
   "outputs": [],
   "source": [
    "def game_step():\n",
    "    \n",
    "    #Display Player Hand\n",
    "    print \"\"\n",
    "    print('Player Hand is: '), player_hand.drawCard(hidden=False)\n",
    "    print 'Player hand total is: '+ player_hand.cal_val()\n",
    "    \n",
    "    #Display Dealer Hand\n",
    "    print \"\"\n",
    "    print ('Dealer Hand is: '), dealer_hand.drawCard(hidden=True)\n",
    "    \n",
    "    if playing == False:\n",
    "        print \"Dealer hand total is: \" + dealer_hand.cal_val()\n",
    "    else:\n",
    "        print \"with another card hidden\"\n",
    "    \n",
    "    print result\n",
    "    \n",
    "    player_input()\n",
    "    "
   ]
  },
  {
   "cell_type": "code",
   "execution_count": 62,
   "metadata": {
    "collapsed": true
   },
   "outputs": [],
   "source": [
    "def player_input():\n",
    "    \n",
    "    player_choice = raw_input().lower()\n",
    "    \n",
    "    if player_choice == 'h':\n",
    "        hit()\n",
    "    elif player_choice == 's':\n",
    "        stand()\n",
    "    elif player_choice == 'd':\n",
    "        deal_cards()\n",
    "    elif player_choice == 'q':\n",
    "        game_exit()\n",
    "    else:\n",
    "        print \"Invalid Input. Please choose from 'h', 's', 'd', or 'q': \"\n",
    "        player_input()"
   ]
  },
  {
   "cell_type": "code",
   "execution_count": 63,
   "metadata": {
    "collapsed": true
   },
   "outputs": [],
   "source": [
    "def hit():\n",
    "    \n",
    "    global playing, deck, player_hand, dealer_hand, result\n",
    "    \n",
    "    if playing:\n",
    "        if playing_hand.cal_val()<=21:\n",
    "            player_hand.card_add(deck.deal()) \n",
    "            # pass 'myCard = deck.deal()' to card_add()\n",
    "        print \"Player hand is %s\" %player_hand #??? \n",
    "        \n",
    "        if player_hand.cal_val()>21:\n",
    "            result = 'Busted! ' + restart_phrase\n",
    "            \n",
    "    else:\n",
    "        result = \"Sorry, can't hit \" + restart_phrase\n",
    "    \n",
    "    game_step()"
   ]
  },
  {
   "cell_type": "code",
   "execution_count": 65,
   "metadata": {},
   "outputs": [],
   "source": [
    "def stand():\n",
    "    \n",
    "    global playing, deck, player_hand, dealer_hand, result\n",
    "    \n",
    "    if playing == False:\n",
    "        if player_hand.cal_val() > 0:\n",
    "            result = \"Sorry, you can't stand. \" #???\n",
    "    \n",
    "    else:\n",
    "        \n",
    "        while dealer_hand.calc_val() < 17:\n",
    "            dealer_hand.card_add(deck.deal())\n",
    "            \n",
    "        if dealer_hand.calc_val() > 21:\n",
    "            result = \"Dealer busted. You win. \" + restart_phrase\n",
    "            playing = False\n",
    "        \n",
    "        elif dealer_hand.calc_val() < player_hand.cal_val():\n",
    "            result = 'Congrats! You win. ' + restart_phrase\n",
    "            playing = False\n",
    "        \n",
    "        elif dealer_hand.cal_val() == player_hand.cal_val():\n",
    "            result = 'Tied up. ' + restart_phrase\n",
    "            playing = False\n",
    "        \n",
    "        else:\n",
    "            result = 'Dealer wins. ' + restart_phrase\n",
    "            playing = False\n",
    "            \n",
    "    game_step()      "
   ]
  },
  {
   "cell_type": "code",
   "execution_count": 66,
   "metadata": {
    "collapsed": true
   },
   "outputs": [],
   "source": [
    "def game_exit():\n",
    "    print 'Thanks for playing. '\n",
    "    exit()"
   ]
  },
  {
   "cell_type": "markdown",
   "metadata": {},
   "source": [
    "Play the game:\n"
   ]
  },
  {
   "cell_type": "code",
   "execution_count": null,
   "metadata": {
    "collapsed": true
   },
   "outputs": [],
   "source": [
    "deck = Deck()\n",
    "deck.shuffle()\n",
    "\n",
    "player_hand = Hand()\n",
    "dealer_hand = Hand()\n",
    "\n",
    "deal_cards()"
   ]
  }
 ],
 "metadata": {
  "kernelspec": {
   "display_name": "Python 2",
   "language": "python",
   "name": "python2"
  },
  "language_info": {
   "codemirror_mode": {
    "name": "ipython",
    "version": 2
   },
   "file_extension": ".py",
   "mimetype": "text/x-python",
   "name": "python",
   "nbconvert_exporter": "python",
   "pygments_lexer": "ipython2",
   "version": "2.7.14"
  }
 },
 "nbformat": 4,
 "nbformat_minor": 2
}
