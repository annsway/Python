{
 "cells": [
  {
   "cell_type": "markdown",
   "metadata": {},
   "source": [
    "# Decorators"
   ]
  },
  {
   "cell_type": "code",
   "execution_count": 1,
   "metadata": {
    "collapsed": true
   },
   "outputs": [],
   "source": [
    "def func():\n",
    "    return 1"
   ]
  },
  {
   "cell_type": "code",
   "execution_count": 2,
   "metadata": {},
   "outputs": [
    {
     "data": {
      "text/plain": [
       "1"
      ]
     },
     "execution_count": 2,
     "metadata": {},
     "output_type": "execute_result"
    }
   ],
   "source": [
    "func()"
   ]
  },
  {
   "cell_type": "code",
   "execution_count": 3,
   "metadata": {
    "collapsed": true
   },
   "outputs": [],
   "source": [
    "s = 'This is a global variable'\n",
    "\n",
    "def func():\n",
    "    print locals()"
   ]
  },
  {
   "cell_type": "code",
   "execution_count": 6,
   "metadata": {},
   "outputs": [
    {
     "name": "stdout",
     "output_type": "stream",
     "text": [
      "{'_dh': [u'C:\\\\Users\\\\Ann\\\\Ann_python\\\\Python\\\\Python Bootcamp\\\\Course Notes'], '__': '', '_i': u'# print all the global variables \\nprint globals()', 'quit': <IPython.core.autocall.ZMQExitAutocall object at 0x00000000077ADA58>, '__builtins__': <module '__builtin__' (built-in)>, 's': 'This is a global variable', '_ih': ['', u'def func():\\n    return 1', u'func()', u\"s = 'This is a global variable'\\n\\ndef func():\\n    print locals()\", u'print globals()', u'# print all the global variables \\nprint globals()', u'print globals() # globals() is a ditionary of all the global variables'], '__builtin__': <module '__builtin__' (built-in)>, '_2': 1, 'func': <function func at 0x0000000009208B38>, '__name__': '__main__', '___': '', '_': 1, '_sh': <module 'IPython.core.shadowns' from 'C:\\Users\\Ann\\Anaconda2\\lib\\site-packages\\IPython\\core\\shadowns.pyc'>, '_i6': u'print globals() # globals() is a ditionary of all the global variables', '_i5': u'# print all the global variables \\nprint globals()', '_i4': u'print globals()', '_i3': u\"s = 'This is a global variable'\\n\\ndef func():\\n    print locals()\", '_i2': u'func()', '_i1': u'def func():\\n    return 1', '__doc__': 'Automatically created module for IPython interactive environment', '_iii': u\"s = 'This is a global variable'\\n\\ndef func():\\n    print locals()\", 'exit': <IPython.core.autocall.ZMQExitAutocall object at 0x00000000077ADA58>, 'get_ipython': <bound method ZMQInteractiveShell.get_ipython of <ipykernel.zmqshell.ZMQInteractiveShell object at 0x0000000007792518>>, '_ii': u'print globals()', 'In': ['', u'def func():\\n    return 1', u'func()', u\"s = 'This is a global variable'\\n\\ndef func():\\n    print locals()\", u'print globals()', u'# print all the global variables \\nprint globals()', u'print globals() # globals() is a ditionary of all the global variables'], '_oh': {2: 1}, 'Out': {2: 1}}\n"
     ]
    }
   ],
   "source": [
    "print globals() # globals() is a ditionary of all the global variables"
   ]
  },
  {
   "cell_type": "code",
   "execution_count": 7,
   "metadata": {},
   "outputs": [
    {
     "name": "stdout",
     "output_type": "stream",
     "text": [
      "This is a global variable\n"
     ]
    }
   ],
   "source": [
    "print globals()['s'] "
   ]
  },
  {
   "cell_type": "code",
   "execution_count": 8,
   "metadata": {},
   "outputs": [
    {
     "name": "stdout",
     "output_type": "stream",
     "text": [
      "{}\n"
     ]
    }
   ],
   "source": [
    "func()"
   ]
  },
  {
   "cell_type": "code",
   "execution_count": 9,
   "metadata": {
    "collapsed": true
   },
   "outputs": [],
   "source": [
    "def hello(name='Jose'):\n",
    "    return 'Hello '+ name"
   ]
  },
  {
   "cell_type": "code",
   "execution_count": 10,
   "metadata": {},
   "outputs": [
    {
     "data": {
      "text/plain": [
       "'Hello Jose'"
      ]
     },
     "execution_count": 10,
     "metadata": {},
     "output_type": "execute_result"
    }
   ],
   "source": [
    "hello()"
   ]
  },
  {
   "cell_type": "code",
   "execution_count": 13,
   "metadata": {
    "collapsed": true
   },
   "outputs": [],
   "source": [
    "greet = hello # assign 'hello' to 'greet'"
   ]
  },
  {
   "cell_type": "code",
   "execution_count": 12,
   "metadata": {},
   "outputs": [
    {
     "data": {
      "text/plain": [
       "'Hello Jose'"
      ]
     },
     "execution_count": 12,
     "metadata": {},
     "output_type": "execute_result"
    }
   ],
   "source": [
    "greet()"
   ]
  },
  {
   "cell_type": "code",
   "execution_count": 14,
   "metadata": {},
   "outputs": [
    {
     "data": {
      "text/plain": [
       "'Hello Jose'"
      ]
     },
     "execution_count": 14,
     "metadata": {},
     "output_type": "execute_result"
    }
   ],
   "source": [
    "hello()"
   ]
  },
  {
   "cell_type": "code",
   "execution_count": 15,
   "metadata": {
    "collapsed": true
   },
   "outputs": [],
   "source": [
    "del hello"
   ]
  },
  {
   "cell_type": "code",
   "execution_count": 16,
   "metadata": {},
   "outputs": [
    {
     "ename": "NameError",
     "evalue": "name 'hello' is not defined",
     "output_type": "error",
     "traceback": [
      "\u001b[1;31m---------------------------------------------------------------------------\u001b[0m",
      "\u001b[1;31mNameError\u001b[0m                                 Traceback (most recent call last)",
      "\u001b[1;32m<ipython-input-16-a803225a2f97>\u001b[0m in \u001b[0;36m<module>\u001b[1;34m()\u001b[0m\n\u001b[1;32m----> 1\u001b[1;33m \u001b[0mhello\u001b[0m\u001b[1;33m(\u001b[0m\u001b[1;33m)\u001b[0m\u001b[1;33m\u001b[0m\u001b[0m\n\u001b[0m",
      "\u001b[1;31mNameError\u001b[0m: name 'hello' is not defined"
     ]
    }
   ],
   "source": [
    "hello()"
   ]
  },
  {
   "cell_type": "code",
   "execution_count": 17,
   "metadata": {},
   "outputs": [
    {
     "data": {
      "text/plain": [
       "'Hello Jose'"
      ]
     },
     "execution_count": 17,
     "metadata": {},
     "output_type": "execute_result"
    }
   ],
   "source": [
    "greet()"
   ]
  },
  {
   "cell_type": "markdown",
   "metadata": {},
   "source": [
    "# Functions within Functions"
   ]
  },
  {
   "cell_type": "code",
   "execution_count": 19,
   "metadata": {},
   "outputs": [],
   "source": [
    "def hello(name = 'Ann'):\n",
    "    \n",
    "    print 'The hello() function has been executed'\n",
    "    \n",
    "    def greet():\n",
    "        \n",
    "        return '\\t This is inside the greet() function'\n",
    "    \n",
    "    def welcome():\n",
    "        \n",
    "        return '\\t This is inside the welcome() function'\n",
    "    \n",
    "    print greet()\n",
    "    print welcome()\n",
    "    print 'Now we are back inside the Hello() function'"
   ]
  },
  {
   "cell_type": "code",
   "execution_count": 20,
   "metadata": {},
   "outputs": [
    {
     "name": "stdout",
     "output_type": "stream",
     "text": [
      "The hello() function has been executed\n",
      "\t This is inside the greet() function\n",
      "\t This is inside the welcome() function\n",
      "Now we are back inside the Hello() function\n"
     ]
    }
   ],
   "source": [
    "hello()"
   ]
  },
  {
   "cell_type": "code",
   "execution_count": 21,
   "metadata": {
    "collapsed": true
   },
   "outputs": [],
   "source": [
    "def hello(name = 'Ann'):\n",
    "    \n",
    "    print 'The hello() function has been executed'\n",
    "    \n",
    "    def greet():\n",
    "        \n",
    "        return '\\t This is inside the greet() function'\n",
    "    \n",
    "    def welcome():\n",
    "        \n",
    "        return '\\t This is inside the welcome() function'\n",
    "    \n",
    "    if name == 'Ann':\n",
    "        return greet # return the function\n",
    "    else:\n",
    "        return welcome # return the function"
   ]
  },
  {
   "cell_type": "code",
   "execution_count": 22,
   "metadata": {},
   "outputs": [
    {
     "name": "stdout",
     "output_type": "stream",
     "text": [
      "The hello() function has been executed\n"
     ]
    }
   ],
   "source": [
    "x = hello()"
   ]
  },
  {
   "cell_type": "code",
   "execution_count": 23,
   "metadata": {},
   "outputs": [
    {
     "data": {
      "text/plain": [
       "<function __main__.greet>"
      ]
     },
     "execution_count": 23,
     "metadata": {},
     "output_type": "execute_result"
    }
   ],
   "source": [
    "x # now x = greet "
   ]
  },
  {
   "cell_type": "code",
   "execution_count": 24,
   "metadata": {},
   "outputs": [
    {
     "name": "stdout",
     "output_type": "stream",
     "text": [
      "\t This is inside the greet() function\n"
     ]
    }
   ],
   "source": [
    "print x()"
   ]
  },
  {
   "cell_type": "markdown",
   "metadata": {},
   "source": [
    "# Functions As Arguments"
   ]
  },
  {
   "cell_type": "code",
   "execution_count": 25,
   "metadata": {
    "collapsed": true
   },
   "outputs": [],
   "source": [
    "def hello():\n",
    "    return 'Hello Jose!'"
   ]
  },
  {
   "cell_type": "code",
   "execution_count": 29,
   "metadata": {
    "collapsed": true
   },
   "outputs": [],
   "source": [
    "def other(func):\n",
    "    print 'Other code goes here. '\n",
    "    print func()"
   ]
  },
  {
   "cell_type": "code",
   "execution_count": 27,
   "metadata": {},
   "outputs": [
    {
     "ename": "TypeError",
     "evalue": "other() takes exactly 1 argument (0 given)",
     "output_type": "error",
     "traceback": [
      "\u001b[1;31m---------------------------------------------------------------------------\u001b[0m",
      "\u001b[1;31mTypeError\u001b[0m                                 Traceback (most recent call last)",
      "\u001b[1;32m<ipython-input-27-a00cfe52deeb>\u001b[0m in \u001b[0;36m<module>\u001b[1;34m()\u001b[0m\n\u001b[1;32m----> 1\u001b[1;33m \u001b[0mother\u001b[0m\u001b[1;33m(\u001b[0m\u001b[1;33m)\u001b[0m\u001b[1;33m\u001b[0m\u001b[0m\n\u001b[0m",
      "\u001b[1;31mTypeError\u001b[0m: other() takes exactly 1 argument (0 given)"
     ]
    }
   ],
   "source": [
    "other()"
   ]
  },
  {
   "cell_type": "code",
   "execution_count": 30,
   "metadata": {},
   "outputs": [
    {
     "name": "stdout",
     "output_type": "stream",
     "text": [
      "Other code goes here. \n",
      "Hello Jose!\n"
     ]
    }
   ],
   "source": [
    "other(hello)"
   ]
  },
  {
   "cell_type": "code",
   "execution_count": 31,
   "metadata": {
    "collapsed": true
   },
   "outputs": [],
   "source": [
    "def new_decorator(func):\n",
    "    def wrap_func():\n",
    "        print 'Code here before executing the func'\n",
    "        \n",
    "        func()\n",
    "        \n",
    "        print 'Code here will execute after the func()'\n",
    "        \n",
    "    return wrap_func"
   ]
  },
  {
   "cell_type": "code",
   "execution_count": 32,
   "metadata": {
    "collapsed": true
   },
   "outputs": [],
   "source": [
    "def func_needs_decorator():\n",
    "    print 'This function needs a decorator!'"
   ]
  },
  {
   "cell_type": "code",
   "execution_count": 33,
   "metadata": {},
   "outputs": [
    {
     "name": "stdout",
     "output_type": "stream",
     "text": [
      "This function needs a decorator!\n"
     ]
    }
   ],
   "source": [
    "func_needs_decorator()"
   ]
  },
  {
   "cell_type": "code",
   "execution_count": 34,
   "metadata": {
    "collapsed": true
   },
   "outputs": [],
   "source": [
    "func_needs_decorator = new_decorator(func_needs_decorator)"
   ]
  },
  {
   "cell_type": "code",
   "execution_count": 36,
   "metadata": {
    "collapsed": true
   },
   "outputs": [],
   "source": [
    "@new_decorator\n",
    "def func_needs_decorator():\n",
    "    print 'This function needs a decorator!'"
   ]
  },
  {
   "cell_type": "code",
   "execution_count": 40,
   "metadata": {},
   "outputs": [
    {
     "name": "stdout",
     "output_type": "stream",
     "text": [
      "Code here before executing the func\n",
      "This function needs a decorator!\n",
      "Code here will execute after the func()\n"
     ]
    },
    {
     "data": {
      "text/plain": [
       "<function __main__.wrap_func>"
      ]
     },
     "execution_count": 40,
     "metadata": {},
     "output_type": "execute_result"
    }
   ],
   "source": [
    "new_decorator(func_needs_decorator())"
   ]
  },
  {
   "cell_type": "markdown",
   "metadata": {},
   "source": []
  }
 ],
 "metadata": {
  "kernelspec": {
   "display_name": "Python 2",
   "language": "python",
   "name": "python2"
  },
  "language_info": {
   "codemirror_mode": {
    "name": "ipython",
    "version": 2
   },
   "file_extension": ".py",
   "mimetype": "text/x-python",
   "name": "python",
   "nbconvert_exporter": "python",
   "pygments_lexer": "ipython2",
   "version": "2.7.14"
  }
 },
 "nbformat": 4,
 "nbformat_minor": 2
}
