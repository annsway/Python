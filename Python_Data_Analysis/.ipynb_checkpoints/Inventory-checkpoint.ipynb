{
 "cells": [
  {
   "cell_type": "code",
   "execution_count": 1,
   "metadata": {},
   "outputs": [
    {
     "ename": "SyntaxError",
     "evalue": "invalid syntax (<ipython-input-1-b20784f8c545>, line 7)",
     "output_type": "error",
     "traceback": [
      "\u001b[1;36m  File \u001b[1;32m\"<ipython-input-1-b20784f8c545>\"\u001b[1;36m, line \u001b[1;32m7\u001b[0m\n\u001b[1;33m    class Entity(metaclass=ABCMeta):\u001b[0m\n\u001b[1;37m                          ^\u001b[0m\n\u001b[1;31mSyntaxError\u001b[0m\u001b[1;31m:\u001b[0m invalid syntax\n"
     ]
    }
   ],
   "source": [
    "'''\n",
    "Created on 12/07/2013\n",
    "@author: luke\n",
    "'''\n",
    "from abc import *\n",
    "\n"
   ]
  },
  {
   "cell_type": "code",
   "execution_count": null,
   "metadata": {
    "collapsed": true
   },
   "outputs": [],
   "source": [
    "class Entity(metaclass=ABCMeta):\n",
    "    \n",
    "    @abstractproperty\n",
    "    def id_number(self):\n",
    "        return 0"
   ]
  },
  {
   "cell_type": "code",
   "execution_count": null,
   "metadata": {
    "collapsed": true
   },
   "outputs": [],
   "source": [
    "class Product(Entity):\n",
    "    '''\n",
    "    classdocs\n",
    "    '''\n",
    "    id = 0\n",
    "\n",
    "    def __init__(self, name=None, value=0, amount=0, scale='kg'):\n",
    "        '''\n",
    "        Constructor\n",
    "        '''\n",
    "        self._id    = Product.id\n",
    "        Product.id  = Product.id + 1\n",
    "        if not name:\n",
    "            self._name = \"{0}_{1}\".format(self.__class__, self._id)\n",
    "        else:\n",
    "            self._name = name\n",
    "        self._value = value\n",
    "        self._amount = amount \n",
    "        self._scale = scale\n",
    "    \n",
    "    @property\n",
    "    def id_number(self):\n",
    "        return self._id\n",
    "    \n",
    "    @property\n",
    "    def name(self):\n",
    "        return self._name\n",
    "    \n",
    "    @property\n",
    "    def value(self):\n",
    "        return self._value\n",
    "    \n",
    "    @value.setter\n",
    "    def value(self, val):\n",
    "        self._value = val\n",
    "        \n",
    "    @property\n",
    "    def amount(self):\n",
    "        return self._amount\n",
    "    \n",
    "    @amount.setter\n",
    "    def amount(self,other):\n",
    "        self._amount = other\n",
    "        \n",
    "    @property\n",
    "    def scale(self):\n",
    "        return self._scale\n",
    "    \n",
    "    @scale.setter\n",
    "    def scale(self, other):\n",
    "        self._scale = other\n",
    "        \n",
    "    def __repr__(self):\n",
    "        return \"{0}: {1}\".format(self.__class__.__name__, self._id)\n",
    "    \n",
    "    def __str__(self):\n",
    "        return \"{amount}{scale} of {name} valued at {value}\".format(\n",
    "                amount=self._amount,scale=self._scale,name=self._name,\n",
    "                value=self._value\n",
    "                                                                    )"
   ]
  },
  {
   "cell_type": "code",
   "execution_count": null,
   "metadata": {
    "collapsed": true
   },
   "outputs": [],
   "source": [
    "class Inventory(Entity):\n",
    "    \n",
    "    id      = 0\n",
    "    \n",
    "    def __init__(self):\n",
    "        self._id        = Inventory.id\n",
    "        Inventory.id    = Inventory.id + 1\n",
    "        self._products  = {}\n",
    "        \n",
    "    def product_add(self, *args):\n",
    "        \n",
    "        def add_to_products(prod):\n",
    "            try:\n",
    "                self._products[prod.name].append(prod)\n",
    "            except:\n",
    "                self._products[prod.name] = [prod]\n",
    "                \n",
    "        for arg in args:\n",
    "            if isinstance(arg, tuple) or isinstance(arg,list):\n",
    "                for prod in arg:\n",
    "                    add_to_products(prod)\n",
    "            elif isinstance(arg,Product):\n",
    "                add_to_products(arg)\n",
    "            # if it's not a product it won't get added\n",
    "    \n",
    "    @property\n",
    "    def product_value(self):\n",
    "        \"\"\"\n",
    "        @return: int: total value of product on hand\n",
    "        \"\"\"\n",
    "        return sum([single.value for product in self._products for single in self._products[product]])\n",
    "    \n",
    "    @property\n",
    "    def product_count(self):\n",
    "        \"\"\"\n",
    "        @return: int: amt of product on hand\n",
    "        \"\"\"\n",
    "        return len([p for product in self._products for p in self._products[product]])\n",
    "    \n",
    "    @property\n",
    "    def product_diff_amount(self):\n",
    "        \"\"\"\n",
    "        @return: int: the amount of different products on hand\n",
    "        \"\"\"\n",
    "        return len(self._products)\n",
    "\n",
    "    @property\n",
    "    def products(self):\n",
    "        \"\"\"\n",
    "        @return: list(Product): product on hand\n",
    "        \"\"\"\n",
    "        return self._products\n",
    "        \n",
    "    @property\n",
    "    def id_number(self):\n",
    "        \"\"\"\n",
    "        @return:  int: identity number of product\n",
    "        \"\"\"\n",
    "        return self._id\n",
    "    \n",
    "    def __repr__(self):\n",
    "        return \"{0}: {1}\".format(self.__class__.__name__, self._id)\n",
    "    "
   ]
  },
  {
   "cell_type": "code",
   "execution_count": null,
   "metadata": {
    "collapsed": true
   },
   "outputs": [],
   "source": [
    "class ObjFactory(metaclass=ABCMeta):\n",
    "    \n",
    "    @abstractmethod\n",
    "    def get_object(self):\n",
    "        return 0\n",
    "    \n",
    "    def __repr__(self):\n",
    "        return \"{0}: {1}\".format(self.__class__.__name__, self._id)\n",
    "    "
   ]
  },
  {
   "cell_type": "code",
   "execution_count": null,
   "metadata": {
    "collapsed": true
   },
   "outputs": [],
   "source": [
    "class InventoryFactory(ObjFactory):\n",
    "    \n",
    "    def get_object(self, amt=1):\n",
    "        for i in range(amt):\n",
    "            yield Inventory()"
   ]
  },
  {
   "cell_type": "code",
   "execution_count": null,
   "metadata": {
    "collapsed": true
   },
   "outputs": [],
   "source": [
    "class ProductFactory(ObjFactory):\n",
    "    \n",
    "    def get_object(self, amt=1):\n",
    "        for i in range(amt):\n",
    "            yield Product()"
   ]
  },
  {
   "cell_type": "code",
   "execution_count": null,
   "metadata": {
    "collapsed": true
   },
   "outputs": [],
   "source": [
    "if __name__ == \"__main__\":\n",
    "    \"\"\"\n",
    "    Product Inventory Project – Create an application which manages an inventory of products. \n",
    "    Create a product class which has a price, id, and quantity on hand. \n",
    "    Then create an inventory class which keeps track of various products and can sum up the inventory value.\n",
    "    \"\"\"\n",
    "    # create an inventory\n",
    "    inventory   = Inventory()\n",
    "    # add some products to the inventory\n",
    "    genProd = lambda value: Product(value=value)\n",
    "    for i in range(1,10):\n",
    "        inventory.product_add(genProd(value=i))\n",
    "    for i in range(1,5):\n",
    "        inventory.product_add(genProd(value=i))\n",
    "    # Get amount of product on hand, value of product, and amt of differnet product\n",
    "    prod_amt    = inventory.product_count\n",
    "    prod_val    = inventory.product_value\n",
    "    prod_diff   = inventory.product_diff_amount\n",
    "    for name, info in ((\"amount of product\",prod_amt), (\"value of product\",prod_val), (\"different products\",prod_diff)):\n",
    "        print(\"{0}: {1}\".format(name,info))\n",
    "    print(inventory.products)\n",
    "    for product in inventory.products:\n",
    "        print(product + \" prob details: \" + str(inventory.products[product]))"
   ]
  }
 ],
 "metadata": {
  "kernelspec": {
   "display_name": "Python 2",
   "language": "python",
   "name": "python2"
  },
  "language_info": {
   "codemirror_mode": {
    "name": "ipython",
    "version": 2
   },
   "file_extension": ".py",
   "mimetype": "text/x-python",
   "name": "python",
   "nbconvert_exporter": "python",
   "pygments_lexer": "ipython2",
   "version": "2.7.14"
  }
 },
 "nbformat": 4,
 "nbformat_minor": 2
}
