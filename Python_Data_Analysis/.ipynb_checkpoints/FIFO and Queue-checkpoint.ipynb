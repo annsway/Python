{
 "cells": [
  {
   "cell_type": "markdown",
   "metadata": {},
   "source": [
    "# 1. Import Data"
   ]
  },
  {
   "cell_type": "code",
   "execution_count": 2,
   "metadata": {
    "collapsed": true
   },
   "outputs": [],
   "source": [
    "import pandas as pd"
   ]
  },
  {
   "cell_type": "code",
   "execution_count": 41,
   "metadata": {
    "collapsed": true
   },
   "outputs": [],
   "source": [
    "filename = 'Sample.csv'"
   ]
  },
  {
   "cell_type": "code",
   "execution_count": 73,
   "metadata": {
    "collapsed": true
   },
   "outputs": [],
   "source": [
    "data = pd.read_csv(filename)"
   ]
  },
  {
   "cell_type": "code",
   "execution_count": 74,
   "metadata": {
    "scrolled": true
   },
   "outputs": [
    {
     "data": {
      "text/html": [
       "<div>\n",
       "<style>\n",
       "    .dataframe thead tr:only-child th {\n",
       "        text-align: right;\n",
       "    }\n",
       "\n",
       "    .dataframe thead th {\n",
       "        text-align: left;\n",
       "    }\n",
       "\n",
       "    .dataframe tbody tr th {\n",
       "        vertical-align: top;\n",
       "    }\n",
       "</style>\n",
       "<table border=\"1\" class=\"dataframe\">\n",
       "  <thead>\n",
       "    <tr style=\"text-align: right;\">\n",
       "      <th></th>\n",
       "      <th>date</th>\n",
       "      <th>stock_in</th>\n",
       "      <th>cost</th>\n",
       "    </tr>\n",
       "  </thead>\n",
       "  <tbody>\n",
       "    <tr>\n",
       "      <th>0</th>\n",
       "      <td>10/1/2017</td>\n",
       "      <td>100</td>\n",
       "      <td>2</td>\n",
       "    </tr>\n",
       "    <tr>\n",
       "      <th>1</th>\n",
       "      <td>10/12/2017</td>\n",
       "      <td>200</td>\n",
       "      <td>1</td>\n",
       "    </tr>\n",
       "    <tr>\n",
       "      <th>2</th>\n",
       "      <td>11/5/2017</td>\n",
       "      <td>300</td>\n",
       "      <td>1</td>\n",
       "    </tr>\n",
       "    <tr>\n",
       "      <th>3</th>\n",
       "      <td>12/10/2017</td>\n",
       "      <td>100</td>\n",
       "      <td>3</td>\n",
       "    </tr>\n",
       "  </tbody>\n",
       "</table>\n",
       "</div>"
      ],
      "text/plain": [
       "         date  stock_in  cost\n",
       "0   10/1/2017       100     2\n",
       "1  10/12/2017       200     1\n",
       "2   11/5/2017       300     1\n",
       "3  12/10/2017       100     3"
      ]
     },
     "execution_count": 74,
     "metadata": {},
     "output_type": "execute_result"
    }
   ],
   "source": [
    "data"
   ]
  },
  {
   "cell_type": "markdown",
   "metadata": {},
   "source": [
    "# 2. FIFO"
   ]
  },
  {
   "cell_type": "code",
   "execution_count": 80,
   "metadata": {
    "collapsed": true
   },
   "outputs": [],
   "source": [
    "import Queue\n",
    "import time"
   ]
  },
  {
   "cell_type": "code",
   "execution_count": 75,
   "metadata": {},
   "outputs": [],
   "source": [
    "def show_stock(q): \n",
    "    total_cost = 0\n",
    "    total_stock_in = 0\n",
    "    for elem in list(q.queue):\n",
    "        print elem;\n",
    "        print '\\n';\n",
    "        total_cost += elem.stock_in * elem.cost\n",
    "        total_stock_in += elem.stock_in\n",
    "\n",
    "    print \"Ave cost: \"\n",
    "    print float(total_cost) / total_stock_in"
   ]
  },
  {
   "cell_type": "code",
   "execution_count": 76,
   "metadata": {
    "collapsed": true
   },
   "outputs": [],
   "source": [
    "def sell(q, sell_amount): \n",
    "    while((not q.empty()) and sell_amount>0):\n",
    "        if(q.queue[0].stock_in>sell_amount):\n",
    "            q.queue[0].stock_in -= sell_amount\n",
    "            sell_amount = 0\n",
    "        else:\n",
    "            sell_amount -= q.queue[0].stock_in\n",
    "            q.get()"
   ]
  },
  {
   "cell_type": "code",
   "execution_count": 78,
   "metadata": {
    "collapsed": true
   },
   "outputs": [],
   "source": [
    "def purchase(q, purchase_date, purchase_amount, purchase_cost):\n",
    "    q.put({'date':purchase_date, 'stock_in':purchase_amount, 'cost':purchase_cost})"
   ]
  },
  {
   "cell_type": "code",
   "execution_count": 82,
   "metadata": {},
   "outputs": [
    {
     "name": "stdout",
     "output_type": "stream",
     "text": [
      "date        10/1/2017\n",
      "stock_in          100\n",
      "cost                2\n",
      "Name: 0, dtype: object\n",
      "\n",
      "\n",
      "date        10/12/2017\n",
      "stock_in           200\n",
      "cost                 1\n",
      "Name: 1, dtype: object\n",
      "\n",
      "\n",
      "date        11/5/2017\n",
      "stock_in          300\n",
      "cost                1\n",
      "Name: 2, dtype: object\n",
      "\n",
      "\n",
      "date        12/10/2017\n",
      "stock_in           100\n",
      "cost                 3\n",
      "Name: 3, dtype: object\n",
      "\n",
      "\n",
      "Ave cost: \n",
      "1.42857142857\n",
      "**********************************\n",
      "\n",
      "date        10/12/2017\n",
      "stock_in           150\n",
      "cost                 1\n",
      "Name: 1, dtype: object\n",
      "\n",
      "\n",
      "date        11/5/2017\n",
      "stock_in          300\n",
      "cost                1\n",
      "Name: 2, dtype: object\n",
      "\n",
      "\n",
      "date        12/10/2017\n",
      "stock_in           100\n",
      "cost                 3\n",
      "Name: 3, dtype: object\n",
      "\n",
      "\n",
      "Ave cost: \n",
      "1.36363636364\n"
     ]
    }
   ],
   "source": [
    "q = Queue.Queue()\n",
    "\n",
    "# Put items at te end of the queue\n",
    "\n",
    "for x in range(0,data.shape[0]):\n",
    "    q.put(data.loc[x,:])\n",
    "\n",
    "show_stock(q)\n",
    "\n",
    "# - 50\n",
    "sell(q, 150)\n",
    "        \n",
    "print \"**********************************\\n\"\n",
    "show_stock(q)\n",
    "\n",
    "# purchase(q, )\n",
    "    "
   ]
  },
  {
   "cell_type": "code",
   "execution_count": null,
   "metadata": {
    "collapsed": true
   },
   "outputs": [],
   "source": []
  }
 ],
 "metadata": {
  "kernelspec": {
   "display_name": "Python 2",
   "language": "python",
   "name": "python2"
  },
  "language_info": {
   "codemirror_mode": {
    "name": "ipython",
    "version": 2
   },
   "file_extension": ".py",
   "mimetype": "text/x-python",
   "name": "python",
   "nbconvert_exporter": "python",
   "pygments_lexer": "ipython2",
   "version": "2.7.14"
  }
 },
 "nbformat": 4,
 "nbformat_minor": 2
}
