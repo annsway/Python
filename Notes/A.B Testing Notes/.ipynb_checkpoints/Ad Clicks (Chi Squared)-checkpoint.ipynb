{
 "cells": [
  {
   "cell_type": "markdown",
   "metadata": {},
   "source": [
    "# Sample Chi Squared Test"
   ]
  },
  {
   "cell_type": "code",
   "execution_count": 1,
   "metadata": {
    "collapsed": true
   },
   "outputs": [],
   "source": [
    "import numpy as np\n",
    "import matplotlib.pyplot as plt\n",
    "from scipy.stats import chi2"
   ]
  },
  {
   "cell_type": "code",
   "execution_count": 2,
   "metadata": {
    "collapsed": true
   },
   "outputs": [],
   "source": [
    "# Self-generated data collection \n",
    "class DataGenerator:\n",
    "    def __init__(self, p1, p2):\n",
    "        self.p1 = p1 # the probability of clicks of group 1\n",
    "        self.p2 = p2 # the probability of clicks of group 2    \n",
    "        # p1 on the right is used for user input\n",
    "        \n",
    "    def next(self):\n",
    "        \n",
    "        #np.random.random() #Returns random floats in [0.0, 1.0)\n",
    "        # if random generated number is less than user input probability 0.1 (very likely)\n",
    "        # then we count it as a \"1-click\", otherwise \"0-click\" \n",
    "        \n",
    "        click1 = 1 if (np.random.random() < self.p1) else 0 \n",
    "        click2 = 1 if (np.random.random() < self.p2) else 0\n",
    "        \n",
    "        return click1, click2 \n",
    "        # returns the result of one experiment e.g. click1 = 1, click2 = 0\n",
    "\n",
    "def get_p_value(T):\n",
    "    det = T[0,0]*T[1,1] - T[0,1]*T[1,0]\n",
    "    #calculate the test statistic of chi square\n",
    "    t_chi = (float(det*det)*T.sum()) / (T[0].sum()*T[1].sum()*T[:,0].sum()*T[:,1].sum())\n",
    "    p = 1 - chi2.cdf(x=t_chi, df=1)\n",
    "    return p\n",
    "\n",
    "def run_experiment(p1, p2, N):\n",
    "    data = DataGenerator(p1, p2)\n",
    "    p_values = np.empty(N)\n",
    "    T = np.zeros((2,2)).astype(np.float32)\n",
    "    \n",
    "    for i in xrange(N):\n",
    "        c1, c2 = data.next() # get the click result from one experiment e.g. click1 = 1, click2 = 0\n",
    "        T[0, c1] += 1 # accumulate the result counts for click1\n",
    "        T[1, c2] += 1 # accumulate the result counts for click2\n",
    "        if i <10:\n",
    "            p_values[i] = None # just in case when the denominator equals to zero\n",
    "        else:\n",
    "            p_values[i] = get_p_value(T)\n",
    "            \n",
    "    plt.plot(p_values)\n",
    "    plt.plot(np.ones(N)*0.05) # Set the significance level of 0.05\n",
    "    plt.show()"
   ]
  },
  {
   "cell_type": "code",
   "execution_count": 3,
   "metadata": {
    "scrolled": false
   },
   "outputs": [
    {
     "data": {
      "image/png": "[encoded data removed]",
      "text/plain": [
       "<matplotlib.figure.Figure at 0x9917c18>"
      ]
     },
     "metadata": {},
     "output_type": "display_data"
    }
   ],
   "source": [
    "run_experiment(0.1, 0.11, 20000)"
   ]
  },
  {
   "cell_type": "markdown",
   "metadata": {},
   "source": [
    "Conclusion: click1 and click2 has no significant difference after a certain amount of experiments. After all, their probablities only differ 0.01. "
   ]
  },
  {
   "cell_type": "markdown",
   "metadata": {},
   "source": [
    "# Example: Ad CTRs"
   ]
  },
  {
   "cell_type": "code",
   "execution_count": 4,
   "metadata": {
    "collapsed": true
   },
   "outputs": [],
   "source": [
    "import pandas as pd"
   ]
  },
  {
   "cell_type": "code",
   "execution_count": 5,
   "metadata": {
    "collapsed": true
   },
   "outputs": [],
   "source": [
    "dat = pd.read_csv(\"ad_clicks.csv\", sep=',', skiprows=1, names=['ad','action'])"
   ]
  },
  {
   "cell_type": "code",
   "execution_count": 6,
   "metadata": {},
   "outputs": [
    {
     "data": {
      "text/html": [
       "<div>\n",
       "<style>\n",
       "    .dataframe thead tr:only-child th {\n",
       "        text-align: right;\n",
       "    }\n",
       "\n",
       "    .dataframe thead th {\n",
       "        text-align: left;\n",
       "    }\n",
       "\n",
       "    .dataframe tbody tr th {\n",
       "        vertical-align: top;\n",
       "    }\n",
       "</style>\n",
       "<table border=\"1\" class=\"dataframe\">\n",
       "  <thead>\n",
       "    <tr style=\"text-align: right;\">\n",
       "      <th></th>\n",
       "      <th>ad</th>\n",
       "      <th>action</th>\n",
       "    </tr>\n",
       "  </thead>\n",
       "  <tbody>\n",
       "    <tr>\n",
       "      <th>0</th>\n",
       "      <td>B</td>\n",
       "      <td>1</td>\n",
       "    </tr>\n",
       "    <tr>\n",
       "      <th>1</th>\n",
       "      <td>B</td>\n",
       "      <td>1</td>\n",
       "    </tr>\n",
       "    <tr>\n",
       "      <th>2</th>\n",
       "      <td>A</td>\n",
       "      <td>0</td>\n",
       "    </tr>\n",
       "    <tr>\n",
       "      <th>3</th>\n",
       "      <td>B</td>\n",
       "      <td>0</td>\n",
       "    </tr>\n",
       "    <tr>\n",
       "      <th>4</th>\n",
       "      <td>A</td>\n",
       "      <td>1</td>\n",
       "    </tr>\n",
       "  </tbody>\n",
       "</table>\n",
       "</div>"
      ],
      "text/plain": [
       "  ad  action\n",
       "0  B       1\n",
       "1  B       1\n",
       "2  A       0\n",
       "3  B       0\n",
       "4  A       1"
      ]
     },
     "execution_count": 6,
     "metadata": {},
     "output_type": "execute_result"
    }
   ],
   "source": [
    "dat.head(5)"
   ]
  },
  {
   "cell_type": "code",
   "execution_count": 7,
   "metadata": {
    "collapsed": true
   },
   "outputs": [],
   "source": [
    "ad_A = dat[dat[\"ad\"] == 'A']"
   ]
  },
  {
   "cell_type": "code",
   "execution_count": 8,
   "metadata": {
    "collapsed": true
   },
   "outputs": [],
   "source": [
    "ad_B = dat[dat[\"ad\"] == 'B']"
   ]
  },
  {
   "cell_type": "code",
   "execution_count": 9,
   "metadata": {
    "collapsed": true
   },
   "outputs": [],
   "source": [
    "ad_A_clicks = ad_A[\"action\"].sum()"
   ]
  },
  {
   "cell_type": "code",
   "execution_count": 10,
   "metadata": {
    "collapsed": true
   },
   "outputs": [],
   "source": [
    "ad_A_clicks = ad_A[(ad_A.action>=1)].count()[\"action\"]"
   ]
  },
  {
   "cell_type": "code",
   "execution_count": 11,
   "metadata": {
    "collapsed": true
   },
   "outputs": [],
   "source": [
    "ad_A_no_clicks = ad_A[(ad_A.action<1)].count()[\"action\"]"
   ]
  },
  {
   "cell_type": "code",
   "execution_count": 12,
   "metadata": {
    "collapsed": true
   },
   "outputs": [],
   "source": [
    "ad_B_clicks = ad_B[ad_B[\"action\"]==1].sum()[\"action\"]"
   ]
  },
  {
   "cell_type": "code",
   "execution_count": 13,
   "metadata": {
    "collapsed": true
   },
   "outputs": [],
   "source": [
    "ad_B_no_clicks = ad_B[ad_B[\"action\"]==0].count()[\"action\"]"
   ]
  },
  {
   "cell_type": "code",
   "execution_count": 14,
   "metadata": {
    "collapsed": true
   },
   "outputs": [],
   "source": [
    "T2 = np.zeros((2,2)).astype(np.float32)"
   ]
  },
  {
   "cell_type": "code",
   "execution_count": 15,
   "metadata": {},
   "outputs": [
    {
     "data": {
      "text/plain": [
       "array([[ 0.,  0.],\n",
       "       [ 0.,  0.]], dtype=float32)"
      ]
     },
     "execution_count": 15,
     "metadata": {},
     "output_type": "execute_result"
    }
   ],
   "source": [
    "T2"
   ]
  },
  {
   "cell_type": "code",
   "execution_count": 16,
   "metadata": {
    "collapsed": true
   },
   "outputs": [],
   "source": [
    "T2[0,0] = ad_A_clicks\n",
    "T2[0,1] = ad_A_no_clicks\n",
    "T2[1,0] = ad_B_clicks\n",
    "T2[1,1] = ad_B_no_clicks"
   ]
  },
  {
   "cell_type": "code",
   "execution_count": 17,
   "metadata": {},
   "outputs": [
    {
     "data": {
      "text/plain": [
       "array([[ 304.,  696.],\n",
       "       [ 372.,  628.]], dtype=float32)"
      ]
     },
     "execution_count": 17,
     "metadata": {},
     "output_type": "execute_result"
    }
   ],
   "source": [
    "T2"
   ]
  },
  {
   "cell_type": "code",
   "execution_count": 18,
   "metadata": {
    "collapsed": true
   },
   "outputs": [],
   "source": [
    "def get_p_value2(T):\n",
    "    det = T[0,0]*T[1,1] - T[0,1]*T[1,0]\n",
    "    #calculate the test statistic of chi square\n",
    "    t_chi = (float(det*det)*T.sum()) / (T[0].sum()*T[1].sum()*T[:,0].sum()*T[:,1].sum())\n",
    "    p = 1 - chi2.cdf(x=t_chi, df=1)\n",
    "    return p"
   ]
  },
  {
   "cell_type": "code",
   "execution_count": 19,
   "metadata": {
    "scrolled": true
   },
   "outputs": [
    {
     "data": {
      "text/plain": [
       "0.0013069500472003837"
      ]
     },
     "execution_count": 19,
     "metadata": {},
     "output_type": "execute_result"
    }
   ],
   "source": [
    "get_p_value2(T2)"
   ]
  },
  {
   "cell_type": "markdown",
   "metadata": {},
   "source": [
    "Conclusion: the two advertisements are different in CTR at the significant level of at the significance level of 0.05.  "
   ]
  },
  {
   "cell_type": "markdown",
   "metadata": {},
   "source": [
    "Another way to form and assign values to a matrix:"
   ]
  },
  {
   "cell_type": "code",
   "execution_count": 21,
   "metadata": {
    "collapsed": true
   },
   "outputs": [],
   "source": [
    "T3 = np.array([[ad_A_clicks, ad_A_no_clicks], [ad_B_clicks, ad_B_no_clicks]])"
   ]
  },
  {
   "cell_type": "code",
   "execution_count": 22,
   "metadata": {},
   "outputs": [
    {
     "data": {
      "text/plain": [
       "array([[304, 696],\n",
       "       [372, 628]], dtype=int64)"
      ]
     },
     "execution_count": 22,
     "metadata": {},
     "output_type": "execute_result"
    }
   ],
   "source": [
    "T3"
   ]
  },
  {
   "cell_type": "code",
   "execution_count": 23,
   "metadata": {},
   "outputs": [
    {
     "data": {
      "text/plain": [
       "0.0013069502732125926"
      ]
     },
     "execution_count": 23,
     "metadata": {},
     "output_type": "execute_result"
    }
   ],
   "source": [
    "get_p_value2(T3)"
   ]
  },
  {
   "cell_type": "code",
   "execution_count": 25,
   "metadata": {},
   "outputs": [
    {
     "data": {
      "text/plain": [
       "0.7946807918920036"
      ]
     },
     "execution_count": 25,
     "metadata": {},
     "output_type": "execute_result"
    }
   ],
   "source": []
  },
  {
   "cell_type": "code",
   "execution_count": null,
   "metadata": {
    "collapsed": true
   },
   "outputs": [],
   "source": []
  }
 ],
 "metadata": {
  "kernelspec": {
   "display_name": "Python 2",
   "language": "python",
   "name": "python2"
  },
  "language_info": {
   "codemirror_mode": {
    "name": "ipython",
    "version": 2
   },
   "file_extension": ".py",
   "mimetype": "text/x-python",
   "name": "python",
   "nbconvert_exporter": "python",
   "pygments_lexer": "ipython2",
   "version": "2.7.14"
  }
 },
 "nbformat": 4,
 "nbformat_minor": 2
}
